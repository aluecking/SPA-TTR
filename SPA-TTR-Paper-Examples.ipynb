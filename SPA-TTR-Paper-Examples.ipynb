{
 "cells": [
  {
   "cell_type": "markdown",
   "id": "2519f292",
   "metadata": {},
   "source": [
    "# Examples for paper draft \"TTR goes to the SPA\""
   ]
  },
  {
   "cell_type": "code",
   "execution_count": 1,
   "id": "cc321339",
   "metadata": {},
   "outputs": [],
   "source": [
    "import nengo\n",
    "import nengo_spa as spa\n",
    "import numpy as np\n",
    "import matplotlib.pyplot as plt"
   ]
  },
  {
   "cell_type": "markdown",
   "id": "9eac80ad",
   "metadata": {},
   "source": [
    "These libraries are used for all examples. \n",
    "Apart from that, each example can be run on its own.\n",
    "For obtaining and using the Nengo libraries see https://www.nengo.ai/."
   ]
  },
  {
   "cell_type": "markdown",
   "id": "8238e56f",
   "metadata": {},
   "source": [
    "## F structure\n",
    "### unbind type of object"
   ]
  },
  {
   "cell_type": "code",
   "execution_count": 5,
   "id": "0e5c059d",
   "metadata": {},
   "outputs": [],
   "source": [
    "d = 64\n",
    "with spa.Network(\"F\") as f:\n",
    "    f_state = spa.State(vocab=d)\n",
    "    query = spa.State(vocab=d)\n",
    "    \n",
    "    spa.sym(\"(IND * (A + B + C)) + (INT * (ONE + TWO + THREE))\") >> f_state\n",
    "    f_state * spa.sym(\"~A\") >> query\n",
    "    \n",
    "    p = nengo.Probe(query.output, synapse=0.01)"
   ]
  },
  {
   "cell_type": "code",
   "execution_count": 6,
   "id": "82702489",
   "metadata": {},
   "outputs": [
    {
     "data": {
      "application/vdom.v1+json": {
       "attributes": {},
       "tagName": "div"
      },
      "text/html": [
       "\n",
       "                <script>\n",
       "                    if (Jupyter.version.split(\".\")[0] < 5) {\n",
       "                        var pb = document.getElementById(\"1fff9ef2-c66a-458d-92c4-694399413a5e\");\n",
       "                        var text = document.createTextNode(\n",
       "                            \"HMTL progress bar requires Jupyter Notebook >= \" +\n",
       "                            \"5.0 or Jupyter Lab. Alternatively, you can use \" +\n",
       "                            \"TerminalProgressBar().\");\n",
       "                        pb.parentNode.insertBefore(text, pb);\n",
       "                    }\n",
       "                </script>\n",
       "                <div id=\"1fff9ef2-c66a-458d-92c4-694399413a5e\" style=\"\n",
       "                    width: 100%;\n",
       "                    border: 1px solid #cfcfcf;\n",
       "                    border-radius: 4px;\n",
       "                    text-align: center;\n",
       "                    position: relative;\">\n",
       "                  <div class=\"pb-text\" style=\"\n",
       "                      position: absolute;\n",
       "                      width: 100%;\">\n",
       "                    0%\n",
       "                  </div>\n",
       "                  <div class=\"pb-fill\" style=\"\n",
       "                      background-color: #bdd2e6;\n",
       "                      width: 0%;\">\n",
       "                    <style type=\"text/css\" scoped=\"scoped\">\n",
       "                        @keyframes pb-fill-anim {\n",
       "                            0% { background-position: 0 0; }\n",
       "                            100% { background-position: 100px 0; }\n",
       "                        }\n",
       "                    </style>\n",
       "                    &nbsp;\n",
       "                  </div>\n",
       "                </div>"
      ],
      "text/plain": [
       "HtmlProgressBar cannot be displayed. Please use the TerminalProgressBar. It can be enabled with `nengo.rc['progress']['progress_bar'] = 'nengo.utils.progress.TerminalProgressBar'`."
      ]
     },
     "metadata": {},
     "output_type": "display_data"
    },
    {
     "data": {
      "application/vdom.v1+json": {
       "attributes": {
        "id": "cce743b1-2dd1-4040-ad8c-cc0364459714",
        "style": {
         "border": "1px solid #cfcfcf",
         "borderRadius": "4px",
         "boxSizing": "border-box",
         "position": "relative",
         "textAlign": "center",
         "width": "100%"
        }
       },
       "children": [
        {
         "attributes": {
          "class": "pb-text",
          "style": {
           "position": "absolute",
           "width": "100%"
          }
         },
         "children": [
          "Build finished in 0:00:09."
         ],
         "tagName": "div"
        },
        {
         "attributes": {
          "class": "pb-fill",
          "style": {
           "animation": "none",
           "backgroundColor": "#bdd2e6",
           "backgroundImage": "none",
           "backgroundSize": "100px 100%",
           "width": "100%"
          }
         },
         "children": [
          {
           "attributes": {
            "scoped": "scoped",
            "type": "text/css"
           },
           "children": [
            "\n                        @keyframes pb-fill-anim {\n                            0% { background-position: 0 0; }\n                            100% { background-position: 100px 0; }\n                        }}"
           ],
           "tagName": "style"
          },
          " "
         ],
         "tagName": "div"
        }
       ],
       "tagName": "div"
      },
      "text/html": [
       "<script>\n",
       "              (function () {\n",
       "                  var root = document.getElementById('1fff9ef2-c66a-458d-92c4-694399413a5e');\n",
       "                  var text = root.getElementsByClassName('pb-text')[0];\n",
       "                  var fill = root.getElementsByClassName('pb-fill')[0];\n",
       "\n",
       "                  text.innerHTML = 'Build finished in 0:00:09.';\n",
       "                  \n",
       "            fill.style.width = '100%';\n",
       "            fill.style.animation = 'pb-fill-anim 2s linear infinite';\n",
       "            fill.style.backgroundSize = '100px 100%';\n",
       "            fill.style.backgroundImage = 'repeating-linear-gradient(' +\n",
       "                '90deg, #bdd2e6, #edf2f8 40%, #bdd2e6 80%, #bdd2e6)';\n",
       "        \n",
       "                  \n",
       "                fill.style.animation = 'none';\n",
       "                fill.style.backgroundImage = 'none';\n",
       "            \n",
       "              })();\n",
       "        </script>"
      ]
     },
     "metadata": {},
     "output_type": "display_data"
    },
    {
     "data": {
      "application/vdom.v1+json": {
       "attributes": {},
       "tagName": "div"
      },
      "text/html": [
       "\n",
       "                <script>\n",
       "                    if (Jupyter.version.split(\".\")[0] < 5) {\n",
       "                        var pb = document.getElementById(\"98610cc7-1adf-4e31-8153-bc68629fefb1\");\n",
       "                        var text = document.createTextNode(\n",
       "                            \"HMTL progress bar requires Jupyter Notebook >= \" +\n",
       "                            \"5.0 or Jupyter Lab. Alternatively, you can use \" +\n",
       "                            \"TerminalProgressBar().\");\n",
       "                        pb.parentNode.insertBefore(text, pb);\n",
       "                    }\n",
       "                </script>\n",
       "                <div id=\"98610cc7-1adf-4e31-8153-bc68629fefb1\" style=\"\n",
       "                    width: 100%;\n",
       "                    border: 1px solid #cfcfcf;\n",
       "                    border-radius: 4px;\n",
       "                    text-align: center;\n",
       "                    position: relative;\">\n",
       "                  <div class=\"pb-text\" style=\"\n",
       "                      position: absolute;\n",
       "                      width: 100%;\">\n",
       "                    0%\n",
       "                  </div>\n",
       "                  <div class=\"pb-fill\" style=\"\n",
       "                      background-color: #bdd2e6;\n",
       "                      width: 0%;\">\n",
       "                    <style type=\"text/css\" scoped=\"scoped\">\n",
       "                        @keyframes pb-fill-anim {\n",
       "                            0% { background-position: 0 0; }\n",
       "                            100% { background-position: 100px 0; }\n",
       "                        }\n",
       "                    </style>\n",
       "                    &nbsp;\n",
       "                  </div>\n",
       "                </div>"
      ],
      "text/plain": [
       "HtmlProgressBar cannot be displayed. Please use the TerminalProgressBar. It can be enabled with `nengo.rc['progress']['progress_bar'] = 'nengo.utils.progress.TerminalProgressBar'`."
      ]
     },
     "metadata": {},
     "output_type": "display_data"
    },
    {
     "data": {
      "application/vdom.v1+json": {
       "attributes": {
        "id": "8f49a71a-2fec-4ca0-b816-609a981267b4",
        "style": {
         "border": "1px solid #cfcfcf",
         "borderRadius": "4px",
         "boxSizing": "border-box",
         "position": "relative",
         "textAlign": "center",
         "width": "100%"
        }
       },
       "children": [
        {
         "attributes": {
          "class": "pb-text",
          "style": {
           "position": "absolute",
           "width": "100%"
          }
         },
         "children": [
          "Simulation finished in 0:00:01."
         ],
         "tagName": "div"
        },
        {
         "attributes": {
          "class": "pb-fill",
          "style": {
           "animation": "none",
           "backgroundColor": "#bdd2e6",
           "backgroundImage": "none",
           "transition": "width 0.1s linear",
           "width": "100%"
          }
         },
         "children": [
          {
           "attributes": {
            "scoped": "scoped",
            "type": "text/css"
           },
           "children": [
            "\n                        @keyframes pb-fill-anim {\n                            0% { background-position: 0 0; }\n                            100% { background-position: 100px 0; }\n                        }}"
           ],
           "tagName": "style"
          },
          " "
         ],
         "tagName": "div"
        }
       ],
       "tagName": "div"
      },
      "text/html": [
       "<script>\n",
       "              (function () {\n",
       "                  var root = document.getElementById('98610cc7-1adf-4e31-8153-bc68629fefb1');\n",
       "                  var text = root.getElementsByClassName('pb-text')[0];\n",
       "                  var fill = root.getElementsByClassName('pb-fill')[0];\n",
       "\n",
       "                  text.innerHTML = 'Simulation finished in 0:00:01.';\n",
       "                  \n",
       "            if (100.0 > 0.) {\n",
       "                fill.style.transition = 'width 0.1s linear';\n",
       "            } else {\n",
       "                fill.style.transition = 'none';\n",
       "            }\n",
       "\n",
       "            fill.style.width = '100.0%';\n",
       "            fill.style.animation = 'none';\n",
       "            fill.style.backgroundImage = 'none'\n",
       "        \n",
       "                  \n",
       "                fill.style.animation = 'none';\n",
       "                fill.style.backgroundImage = 'none';\n",
       "            \n",
       "              })();\n",
       "        </script>"
      ]
     },
     "metadata": {},
     "output_type": "display_data"
    }
   ],
   "source": [
    "with nengo.Simulator(f) as sim:\n",
    "    sim.run(0.5)"
   ]
  },
  {
   "cell_type": "code",
   "execution_count": 7,
   "id": "dc0afb46",
   "metadata": {},
   "outputs": [
    {
     "data": {
      "text/plain": [
       "<matplotlib.legend.Legend at 0x7fd4346bd3f0>"
      ]
     },
     "execution_count": 7,
     "metadata": {},
     "output_type": "execute_result"
    },
    {
     "data": {
      "image/png": "[encoded data removed]",
      "text/plain": [
       "<Figure size 432x288 with 1 Axes>"
      ]
     },
     "metadata": {
      "needs_background": "light"
     },
     "output_type": "display_data"
    }
   ],
   "source": [
    "plt.figure()\n",
    "plt.plot(sim.trange(), spa.similarity(sim.data[p], query.vocab))\n",
    "plt.xlabel(\"time\")\n",
    "plt.ylabel(\"sim\")\n",
    "plt.legend(query.vocab, loc=\"best\")"
   ]
  },
  {
   "cell_type": "markdown",
   "id": "75e09ce1",
   "metadata": {},
   "source": [
    "### does unbinding of type AND object equals 1?\n",
    "(no, it does not)"
   ]
  },
  {
   "cell_type": "code",
   "execution_count": 12,
   "id": "33f01677",
   "metadata": {},
   "outputs": [],
   "source": [
    "d = 64\n",
    "vocab = spa.Vocabulary(dimensions=d)\n",
    "vocab.populate(\n",
    "    \"\"\"\n",
    "    A; B; C; \n",
    "    ONE; TWO; THREE; \n",
    "    IND; INT; \n",
    "    F = (IND * (A + B + C)) + (INT * (ONE + TWO + THREE))\"\"\"\n",
    ")"
   ]
  },
  {
   "cell_type": "code",
   "execution_count": 13,
   "id": "a18ebb5e",
   "metadata": {},
   "outputs": [],
   "source": [
    "# A : IND ∼ F * IND' * A' ≈ 1\n",
    "pointer_a_ind = vocab.parse(\"F * ~IND * ~A\").v"
   ]
  },
  {
   "cell_type": "code",
   "execution_count": 14,
   "id": "1f41bf7a",
   "metadata": {},
   "outputs": [
    {
     "name": "stdout",
     "output_type": "stream",
     "text": [
      "[ 0.5303104  -0.00773001 -0.252485    0.50239845  0.72432385 -0.22966053\n",
      " -0.32171623  0.70729237  0.72940146 -0.49047744 -0.19981664  0.17164761\n",
      "  0.19486293 -0.44149278 -0.84047377  0.30945821  0.52105218 -0.3441509\n",
      " -0.14961033  0.4749769   0.21654596 -0.73205105 -0.54806367 -0.07460593\n",
      "  0.35675571 -0.49041847 -0.54446126  0.46843815  0.38447847 -0.5409123\n",
      " -0.06668394  0.24190771  0.09675067 -0.42236833 -0.30338849  0.23846253\n",
      "  0.12329922 -0.40542775 -0.20540934  0.45261996 -0.09877059 -0.63519232\n",
      " -0.34306971 -0.22244486  0.06778307 -0.14183507 -0.31879915 -0.03578718\n",
      "  0.41567954 -0.26547767 -0.35285008 -0.13928073  0.03853346 -0.2701695\n",
      " -0.40871635  0.13733399  0.79890285  0.29978908 -0.41829641  0.49647811\n",
      "  0.94152692 -0.121617   -0.26170147  0.00116182]\n"
     ]
    }
   ],
   "source": [
    "print(pointer_a_ind)"
   ]
  },
  {
   "cell_type": "markdown",
   "id": "0452e069",
   "metadata": {},
   "source": [
    "## S + S = S for all SPA\n",
    "### similarity based"
   ]
  },
  {
   "cell_type": "code",
   "execution_count": 6,
   "id": "91112d6e",
   "metadata": {},
   "outputs": [],
   "source": [
    "d = 64\n",
    "vocab = spa.Vocabulary(dimensions=d)\n",
    "vocab.populate(\"A; B; S\")\n",
    "\n",
    "with spa.Network(label=\"S+S\") as model:\n",
    "    simple = spa.Transcode(lambda t: \"A\" if t < 0.25 else \"B\" if t < 0.5 else \"S\", output_vocab=d)\n",
    "    test = spa.Transcode(lambda t: \n",
    "                         \"(A+A).normalized()\" if t < 0.25 \n",
    "                         else \"(B+B).normalized()\" \n",
    "                         if t < 0.5 else \"(S+S).normalized()\", output_vocab=d)\n",
    "    # compare to non-normalized bundling: \n",
    "    # test = spa.Transcode(lambda t: \"A+A\" if t < 0.25 else \"B+B\" if t < 0.5 else \"S+S\", output_vocab=d)out_test = spa.State(vocab=d)\n",
    "    out_simple = spa.State(vocab=d)\n",
    "    out_test = spa.State(vocab=d)\n",
    "    \n",
    "    test >> out_test\n",
    "    simple >> out_simple\n",
    "    \n",
    "    p_test = nengo.Probe(out_test.output, synapse=0.01)\n",
    "    p_simple = nengo.Probe(out_simple.output, synapse=0.01)"
   ]
  },
  {
   "cell_type": "code",
   "execution_count": 7,
   "id": "a5248893",
   "metadata": {},
   "outputs": [
    {
     "data": {
      "application/vdom.v1+json": {
       "attributes": {},
       "tagName": "div"
      },
      "text/html": [
       "\n",
       "                <script>\n",
       "                    if (Jupyter.version.split(\".\")[0] < 5) {\n",
       "                        var pb = document.getElementById(\"dfba7a6b-497e-4a6e-8ce9-1be389200737\");\n",
       "                        var text = document.createTextNode(\n",
       "                            \"HMTL progress bar requires Jupyter Notebook >= \" +\n",
       "                            \"5.0 or Jupyter Lab. Alternatively, you can use \" +\n",
       "                            \"TerminalProgressBar().\");\n",
       "                        pb.parentNode.insertBefore(text, pb);\n",
       "                    }\n",
       "                </script>\n",
       "                <div id=\"dfba7a6b-497e-4a6e-8ce9-1be389200737\" style=\"\n",
       "                    width: 100%;\n",
       "                    border: 1px solid #cfcfcf;\n",
       "                    border-radius: 4px;\n",
       "                    text-align: center;\n",
       "                    position: relative;\">\n",
       "                  <div class=\"pb-text\" style=\"\n",
       "                      position: absolute;\n",
       "                      width: 100%;\">\n",
       "                    0%\n",
       "                  </div>\n",
       "                  <div class=\"pb-fill\" style=\"\n",
       "                      background-color: #bdd2e6;\n",
       "                      width: 0%;\">\n",
       "                    <style type=\"text/css\" scoped=\"scoped\">\n",
       "                        @keyframes pb-fill-anim {\n",
       "                            0% { background-position: 0 0; }\n",
       "                            100% { background-position: 100px 0; }\n",
       "                        }\n",
       "                    </style>\n",
       "                    &nbsp;\n",
       "                  </div>\n",
       "                </div>"
      ],
      "text/plain": [
       "HtmlProgressBar cannot be displayed. Please use the TerminalProgressBar. It can be enabled with `nengo.rc['progress']['progress_bar'] = 'nengo.utils.progress.TerminalProgressBar'`."
      ]
     },
     "metadata": {},
     "output_type": "display_data"
    },
    {
     "data": {
      "application/vdom.v1+json": {
       "attributes": {
        "id": "e574fd53-5a08-47ac-95c0-f7b11d372aed",
        "style": {
         "border": "1px solid #cfcfcf",
         "borderRadius": "4px",
         "boxSizing": "border-box",
         "position": "relative",
         "textAlign": "center",
         "width": "100%"
        }
       },
       "children": [
        {
         "attributes": {
          "class": "pb-text",
          "style": {
           "position": "absolute",
           "width": "100%"
          }
         },
         "children": [
          "Build finished in 0:00:10."
         ],
         "tagName": "div"
        },
        {
         "attributes": {
          "class": "pb-fill",
          "style": {
           "animation": "none",
           "backgroundColor": "#bdd2e6",
           "backgroundImage": "none",
           "backgroundSize": "100px 100%",
           "width": "100%"
          }
         },
         "children": [
          {
           "attributes": {
            "scoped": "scoped",
            "type": "text/css"
           },
           "children": [
            "\n                        @keyframes pb-fill-anim {\n                            0% { background-position: 0 0; }\n                            100% { background-position: 100px 0; }\n                        }}"
           ],
           "tagName": "style"
          },
          " "
         ],
         "tagName": "div"
        }
       ],
       "tagName": "div"
      },
      "text/html": [
       "<script>\n",
       "              (function () {\n",
       "                  var root = document.getElementById('dfba7a6b-497e-4a6e-8ce9-1be389200737');\n",
       "                  var text = root.getElementsByClassName('pb-text')[0];\n",
       "                  var fill = root.getElementsByClassName('pb-fill')[0];\n",
       "\n",
       "                  text.innerHTML = 'Build finished in 0:00:10.';\n",
       "                  \n",
       "            fill.style.width = '100%';\n",
       "            fill.style.animation = 'pb-fill-anim 2s linear infinite';\n",
       "            fill.style.backgroundSize = '100px 100%';\n",
       "            fill.style.backgroundImage = 'repeating-linear-gradient(' +\n",
       "                '90deg, #bdd2e6, #edf2f8 40%, #bdd2e6 80%, #bdd2e6)';\n",
       "        \n",
       "                  \n",
       "                fill.style.animation = 'none';\n",
       "                fill.style.backgroundImage = 'none';\n",
       "            \n",
       "              })();\n",
       "        </script>"
      ]
     },
     "metadata": {},
     "output_type": "display_data"
    },
    {
     "data": {
      "application/vdom.v1+json": {
       "attributes": {},
       "tagName": "div"
      },
      "text/html": [
       "\n",
       "                <script>\n",
       "                    if (Jupyter.version.split(\".\")[0] < 5) {\n",
       "                        var pb = document.getElementById(\"1007a21b-ba97-443e-9c95-da7290a0489e\");\n",
       "                        var text = document.createTextNode(\n",
       "                            \"HMTL progress bar requires Jupyter Notebook >= \" +\n",
       "                            \"5.0 or Jupyter Lab. Alternatively, you can use \" +\n",
       "                            \"TerminalProgressBar().\");\n",
       "                        pb.parentNode.insertBefore(text, pb);\n",
       "                    }\n",
       "                </script>\n",
       "                <div id=\"1007a21b-ba97-443e-9c95-da7290a0489e\" style=\"\n",
       "                    width: 100%;\n",
       "                    border: 1px solid #cfcfcf;\n",
       "                    border-radius: 4px;\n",
       "                    text-align: center;\n",
       "                    position: relative;\">\n",
       "                  <div class=\"pb-text\" style=\"\n",
       "                      position: absolute;\n",
       "                      width: 100%;\">\n",
       "                    0%\n",
       "                  </div>\n",
       "                  <div class=\"pb-fill\" style=\"\n",
       "                      background-color: #bdd2e6;\n",
       "                      width: 0%;\">\n",
       "                    <style type=\"text/css\" scoped=\"scoped\">\n",
       "                        @keyframes pb-fill-anim {\n",
       "                            0% { background-position: 0 0; }\n",
       "                            100% { background-position: 100px 0; }\n",
       "                        }\n",
       "                    </style>\n",
       "                    &nbsp;\n",
       "                  </div>\n",
       "                </div>"
      ],
      "text/plain": [
       "HtmlProgressBar cannot be displayed. Please use the TerminalProgressBar. It can be enabled with `nengo.rc['progress']['progress_bar'] = 'nengo.utils.progress.TerminalProgressBar'`."
      ]
     },
     "metadata": {},
     "output_type": "display_data"
    },
    {
     "data": {
      "application/vdom.v1+json": {
       "attributes": {
        "id": "49197f6e-0a3a-4a08-bc0a-1008a4ac90f4",
        "style": {
         "border": "1px solid #cfcfcf",
         "borderRadius": "4px",
         "boxSizing": "border-box",
         "position": "relative",
         "textAlign": "center",
         "width": "100%"
        }
       },
       "children": [
        {
         "attributes": {
          "class": "pb-text",
          "style": {
           "position": "absolute",
           "width": "100%"
          }
         },
         "children": [
          "Simulation finished in 0:00:02."
         ],
         "tagName": "div"
        },
        {
         "attributes": {
          "class": "pb-fill",
          "style": {
           "animation": "none",
           "backgroundColor": "#bdd2e6",
           "backgroundImage": "none",
           "transition": "width 0.1s linear",
           "width": "100%"
          }
         },
         "children": [
          {
           "attributes": {
            "scoped": "scoped",
            "type": "text/css"
           },
           "children": [
            "\n                        @keyframes pb-fill-anim {\n                            0% { background-position: 0 0; }\n                            100% { background-position: 100px 0; }\n                        }}"
           ],
           "tagName": "style"
          },
          " "
         ],
         "tagName": "div"
        }
       ],
       "tagName": "div"
      },
      "text/html": [
       "<script>\n",
       "              (function () {\n",
       "                  var root = document.getElementById('1007a21b-ba97-443e-9c95-da7290a0489e');\n",
       "                  var text = root.getElementsByClassName('pb-text')[0];\n",
       "                  var fill = root.getElementsByClassName('pb-fill')[0];\n",
       "\n",
       "                  text.innerHTML = 'Simulation finished in 0:00:02.';\n",
       "                  \n",
       "            if (100.0 > 0.) {\n",
       "                fill.style.transition = 'width 0.1s linear';\n",
       "            } else {\n",
       "                fill.style.transition = 'none';\n",
       "            }\n",
       "\n",
       "            fill.style.width = '100.0%';\n",
       "            fill.style.animation = 'none';\n",
       "            fill.style.backgroundImage = 'none'\n",
       "        \n",
       "                  \n",
       "                fill.style.animation = 'none';\n",
       "                fill.style.backgroundImage = 'none';\n",
       "            \n",
       "              })();\n",
       "        </script>"
      ]
     },
     "metadata": {},
     "output_type": "display_data"
    }
   ],
   "source": [
    "with nengo.Simulator(model) as sim:\n",
    "    sim.run(0.75)"
   ]
  },
  {
   "cell_type": "code",
   "execution_count": 8,
   "id": "c6994fe7",
   "metadata": {},
   "outputs": [
    {
     "data": {
      "text/plain": [
       "<matplotlib.legend.Legend at 0x7f1fb423d420>"
      ]
     },
     "execution_count": 8,
     "metadata": {},
     "output_type": "execute_result"
    },
    {
     "data": {
      "image/png": "[encoded data removed]",
      "text/plain": [
       "<Figure size 432x288 with 1 Axes>"
      ]
     },
     "metadata": {
      "needs_background": "light"
     },
     "output_type": "display_data"
    }
   ],
   "source": [
    "plt.figure()\n",
    "plt.plot(sim.trange(), spa.similarity(sim.data[p_simple], out_simple.vocab))\n",
    "plt.xlabel(\"time\")\n",
    "plt.ylabel(\"sim\")\n",
    "plt.legend(out_simple.vocab, loc=\"best\")"
   ]
  },
  {
   "cell_type": "code",
   "execution_count": 9,
   "id": "5b3e1393",
   "metadata": {},
   "outputs": [
    {
     "data": {
      "text/plain": [
       "<matplotlib.legend.Legend at 0x7f1fb4249480>"
      ]
     },
     "execution_count": 9,
     "metadata": {},
     "output_type": "execute_result"
    },
    {
     "data": {
      "image/png": "[encoded data removed]",
      "text/plain": [
       "<Figure size 432x288 with 1 Axes>"
      ]
     },
     "metadata": {
      "needs_background": "light"
     },
     "output_type": "display_data"
    }
   ],
   "source": [
    "plt.figure()\n",
    "plt.plot(sim.trange(), spa.similarity(sim.data[p_test], out_test.vocab))\n",
    "plt.xlabel(\"time\")\n",
    "plt.ylabel(\"sim\")\n",
    "plt.legend(out_test.vocab, loc=\"best\")"
   ]
  },
  {
   "cell_type": "markdown",
   "id": "2fc459fa",
   "metadata": {},
   "source": [
    "### vector based"
   ]
  },
  {
   "cell_type": "code",
   "execution_count": 5,
   "id": "01192dab",
   "metadata": {},
   "outputs": [],
   "source": [
    "d = 64\n",
    "vocab = spa.Vocabulary(dimensions=d)\n",
    "vocab.populate(\"A; B; S\")\n",
    "\n",
    "# Caution! The two vectors may differ in their number of decimal places! \n",
    "# For comarison, round them to, say, 10 decimal places:\n",
    "pointer_aa = np.round(vocab.parse(\"(A+A).normalized()\").v, 10)\n",
    "pointer_a = np.round(vocab[\"A\"].v, 10)\n",
    "\n",
    "# pointer_bb = vocab.parse(\"(B+B).normalized()\").v\n",
    "# pointer_ss = vocab.parse(\"(S+S).normalized()\").v"
   ]
  },
  {
   "cell_type": "code",
   "execution_count": 50,
   "id": "c12827a6",
   "metadata": {},
   "outputs": [
    {
     "name": "stdout",
     "output_type": "stream",
     "text": [
      "-0.0552601866\n",
      "-0.0552601866\n"
     ]
    }
   ],
   "source": [
    "# inspect first dimension of result:\n",
    "print(pointer_aa[0])\n",
    "print(pointer_a[0])"
   ]
  },
  {
   "cell_type": "code",
   "execution_count": 52,
   "id": "b84eda70",
   "metadata": {},
   "outputs": [
    {
     "name": "stdout",
     "output_type": "stream",
     "text": [
      "Pointer \"A\" is identical to pointer \"A+A\"\n"
     ]
    }
   ],
   "source": [
    "# comparing vectors with any():\n",
    "if (pointer_aa==pointer_a).any():\n",
    "    print(\"Pointer \\\"A\\\" is identical to pointer \\\"A+A\\\"\")\n",
    "else:\n",
    "    print(\"pointers differ\")"
   ]
  },
  {
   "cell_type": "code",
   "execution_count": 53,
   "id": "70b4c07c",
   "metadata": {},
   "outputs": [
    {
     "name": "stdout",
     "output_type": "stream",
     "text": [
      "Equal\n"
     ]
    }
   ],
   "source": [
    "# Comparing vectors with numpy's arrays_equal()\n",
    "if np.array_equal(pointer_aa, pointer_a):\n",
    "    print(\"Equal\")\n",
    "else:\n",
    "    print(\"Not Equal\")"
   ]
  },
  {
   "cell_type": "markdown",
   "id": "60673320",
   "metadata": {},
   "source": [
    "## Binding distributes over bundling"
   ]
  },
  {
   "cell_type": "code",
   "execution_count": 58,
   "id": "e7022452",
   "metadata": {},
   "outputs": [],
   "source": [
    "d = 64\n",
    "vocab = spa.Vocabulary(dimensions=d)\n",
    "vocab.populate(\"A; B; C\")\n",
    "\n",
    "pointer_bundle = np.round(vocab.parse(\"A * B + A * C\").v, 10)\n",
    "pointer_distrib = np.round(vocab.parse(\"A * (B + C)\").v, 10)"
   ]
  },
  {
   "cell_type": "code",
   "execution_count": 59,
   "id": "e0f61cd6",
   "metadata": {},
   "outputs": [
    {
     "name": "stdout",
     "output_type": "stream",
     "text": [
      "equal\n"
     ]
    }
   ],
   "source": [
    "if np.array_equal(pointer_bundle, pointer_distrib):\n",
    "    print(\"equal\")\n",
    "else:\n",
    "    print(\"different\")"
   ]
  },
  {
   "cell_type": "markdown",
   "id": "6d8fe570",
   "metadata": {},
   "source": [
    "# Singleton types"
   ]
  },
  {
   "cell_type": "code",
   "execution_count": 41,
   "id": "7153ea9e",
   "metadata": {},
   "outputs": [],
   "source": [
    "d = 64\n",
    "vocab = spa.Vocabulary(dimensions=d)\n",
    "vocab.populate(\"A; T; B; B_EQ_A = A\")\n",
    "\n",
    "def rehearsal(t):\n",
    "    if t < 0.25:\n",
    "        return \"T + A\"\n",
    "    elif t < 0.5:\n",
    "        return \"T + B\"\n",
    "    else:\n",
    "        return \"T + B_EQ_A\"\n",
    "    \n",
    "with spa.Network(\"Singletons\") as model:\n",
    "    out = spa.State(vocab=vocab)\n",
    "    query = spa.Transcode(rehearsal, output_vocab=vocab)\n",
    "    \n",
    "    query >> out\n",
    "    \n",
    "    p = nengo.Probe(out.output, synapse=0.01)"
   ]
  },
  {
   "cell_type": "code",
   "execution_count": 42,
   "id": "92a013bc",
   "metadata": {},
   "outputs": [
    {
     "data": {
      "application/vdom.v1+json": {
       "attributes": {},
       "tagName": "div"
      },
      "text/html": [
       "\n",
       "                <script>\n",
       "                    if (Jupyter.version.split(\".\")[0] < 5) {\n",
       "                        var pb = document.getElementById(\"c1af24c1-00d2-4e3a-a2c4-0582d2b29e94\");\n",
       "                        var text = document.createTextNode(\n",
       "                            \"HMTL progress bar requires Jupyter Notebook >= \" +\n",
       "                            \"5.0 or Jupyter Lab. Alternatively, you can use \" +\n",
       "                            \"TerminalProgressBar().\");\n",
       "                        pb.parentNode.insertBefore(text, pb);\n",
       "                    }\n",
       "                </script>\n",
       "                <div id=\"c1af24c1-00d2-4e3a-a2c4-0582d2b29e94\" style=\"\n",
       "                    width: 100%;\n",
       "                    border: 1px solid #cfcfcf;\n",
       "                    border-radius: 4px;\n",
       "                    text-align: center;\n",
       "                    position: relative;\">\n",
       "                  <div class=\"pb-text\" style=\"\n",
       "                      position: absolute;\n",
       "                      width: 100%;\">\n",
       "                    0%\n",
       "                  </div>\n",
       "                  <div class=\"pb-fill\" style=\"\n",
       "                      background-color: #bdd2e6;\n",
       "                      width: 0%;\">\n",
       "                    <style type=\"text/css\" scoped=\"scoped\">\n",
       "                        @keyframes pb-fill-anim {\n",
       "                            0% { background-position: 0 0; }\n",
       "                            100% { background-position: 100px 0; }\n",
       "                        }\n",
       "                    </style>\n",
       "                    &nbsp;\n",
       "                  </div>\n",
       "                </div>"
      ],
      "text/plain": [
       "HtmlProgressBar cannot be displayed. Please use the TerminalProgressBar. It can be enabled with `nengo.rc['progress']['progress_bar'] = 'nengo.utils.progress.TerminalProgressBar'`."
      ]
     },
     "metadata": {},
     "output_type": "display_data"
    },
    {
     "data": {
      "application/vdom.v1+json": {
       "attributes": {
        "id": "79bd26ac-c23e-41c0-b0b4-bf1a7a4e3334",
        "style": {
         "border": "1px solid #cfcfcf",
         "borderRadius": "4px",
         "boxSizing": "border-box",
         "position": "relative",
         "textAlign": "center",
         "width": "100%"
        }
       },
       "children": [
        {
         "attributes": {
          "class": "pb-text",
          "style": {
           "position": "absolute",
           "width": "100%"
          }
         },
         "children": [
          "Build finished in 0:00:05."
         ],
         "tagName": "div"
        },
        {
         "attributes": {
          "class": "pb-fill",
          "style": {
           "animation": "none",
           "backgroundColor": "#bdd2e6",
           "backgroundImage": "none",
           "backgroundSize": "100px 100%",
           "width": "100%"
          }
         },
         "children": [
          {
           "attributes": {
            "scoped": "scoped",
            "type": "text/css"
           },
           "children": [
            "\n                        @keyframes pb-fill-anim {\n                            0% { background-position: 0 0; }\n                            100% { background-position: 100px 0; }\n                        }}"
           ],
           "tagName": "style"
          },
          " "
         ],
         "tagName": "div"
        }
       ],
       "tagName": "div"
      },
      "text/html": [
       "<script>\n",
       "              (function () {\n",
       "                  var root = document.getElementById('c1af24c1-00d2-4e3a-a2c4-0582d2b29e94');\n",
       "                  var text = root.getElementsByClassName('pb-text')[0];\n",
       "                  var fill = root.getElementsByClassName('pb-fill')[0];\n",
       "\n",
       "                  text.innerHTML = 'Build finished in 0:00:05.';\n",
       "                  \n",
       "            fill.style.width = '100%';\n",
       "            fill.style.animation = 'pb-fill-anim 2s linear infinite';\n",
       "            fill.style.backgroundSize = '100px 100%';\n",
       "            fill.style.backgroundImage = 'repeating-linear-gradient(' +\n",
       "                '90deg, #bdd2e6, #edf2f8 40%, #bdd2e6 80%, #bdd2e6)';\n",
       "        \n",
       "                  \n",
       "                fill.style.animation = 'none';\n",
       "                fill.style.backgroundImage = 'none';\n",
       "            \n",
       "              })();\n",
       "        </script>"
      ]
     },
     "metadata": {},
     "output_type": "display_data"
    },
    {
     "data": {
      "application/vdom.v1+json": {
       "attributes": {},
       "tagName": "div"
      },
      "text/html": [
       "\n",
       "                <script>\n",
       "                    if (Jupyter.version.split(\".\")[0] < 5) {\n",
       "                        var pb = document.getElementById(\"7d7ba6df-8c6b-4851-b427-1f4f09a92d31\");\n",
       "                        var text = document.createTextNode(\n",
       "                            \"HMTL progress bar requires Jupyter Notebook >= \" +\n",
       "                            \"5.0 or Jupyter Lab. Alternatively, you can use \" +\n",
       "                            \"TerminalProgressBar().\");\n",
       "                        pb.parentNode.insertBefore(text, pb);\n",
       "                    }\n",
       "                </script>\n",
       "                <div id=\"7d7ba6df-8c6b-4851-b427-1f4f09a92d31\" style=\"\n",
       "                    width: 100%;\n",
       "                    border: 1px solid #cfcfcf;\n",
       "                    border-radius: 4px;\n",
       "                    text-align: center;\n",
       "                    position: relative;\">\n",
       "                  <div class=\"pb-text\" style=\"\n",
       "                      position: absolute;\n",
       "                      width: 100%;\">\n",
       "                    0%\n",
       "                  </div>\n",
       "                  <div class=\"pb-fill\" style=\"\n",
       "                      background-color: #bdd2e6;\n",
       "                      width: 0%;\">\n",
       "                    <style type=\"text/css\" scoped=\"scoped\">\n",
       "                        @keyframes pb-fill-anim {\n",
       "                            0% { background-position: 0 0; }\n",
       "                            100% { background-position: 100px 0; }\n",
       "                        }\n",
       "                    </style>\n",
       "                    &nbsp;\n",
       "                  </div>\n",
       "                </div>"
      ],
      "text/plain": [
       "HtmlProgressBar cannot be displayed. Please use the TerminalProgressBar. It can be enabled with `nengo.rc['progress']['progress_bar'] = 'nengo.utils.progress.TerminalProgressBar'`."
      ]
     },
     "metadata": {},
     "output_type": "display_data"
    },
    {
     "data": {
      "application/vdom.v1+json": {
       "attributes": {
        "id": "5003f239-79cc-4015-a27c-240c30fbb555",
        "style": {
         "border": "1px solid #cfcfcf",
         "borderRadius": "4px",
         "boxSizing": "border-box",
         "position": "relative",
         "textAlign": "center",
         "width": "100%"
        }
       },
       "children": [
        {
         "attributes": {
          "class": "pb-text",
          "style": {
           "position": "absolute",
           "width": "100%"
          }
         },
         "children": [
          "Simulation finished in 0:00:01."
         ],
         "tagName": "div"
        },
        {
         "attributes": {
          "class": "pb-fill",
          "style": {
           "animation": "none",
           "backgroundColor": "#bdd2e6",
           "backgroundImage": "none",
           "transition": "width 0.1s linear",
           "width": "100%"
          }
         },
         "children": [
          {
           "attributes": {
            "scoped": "scoped",
            "type": "text/css"
           },
           "children": [
            "\n                        @keyframes pb-fill-anim {\n                            0% { background-position: 0 0; }\n                            100% { background-position: 100px 0; }\n                        }}"
           ],
           "tagName": "style"
          },
          " "
         ],
         "tagName": "div"
        }
       ],
       "tagName": "div"
      },
      "text/html": [
       "<script>\n",
       "              (function () {\n",
       "                  var root = document.getElementById('7d7ba6df-8c6b-4851-b427-1f4f09a92d31');\n",
       "                  var text = root.getElementsByClassName('pb-text')[0];\n",
       "                  var fill = root.getElementsByClassName('pb-fill')[0];\n",
       "\n",
       "                  text.innerHTML = 'Simulation finished in 0:00:01.';\n",
       "                  \n",
       "            if (100.0 > 0.) {\n",
       "                fill.style.transition = 'width 0.1s linear';\n",
       "            } else {\n",
       "                fill.style.transition = 'none';\n",
       "            }\n",
       "\n",
       "            fill.style.width = '100.0%';\n",
       "            fill.style.animation = 'none';\n",
       "            fill.style.backgroundImage = 'none'\n",
       "        \n",
       "                  \n",
       "                fill.style.animation = 'none';\n",
       "                fill.style.backgroundImage = 'none';\n",
       "            \n",
       "              })();\n",
       "        </script>"
      ]
     },
     "metadata": {},
     "output_type": "display_data"
    }
   ],
   "source": [
    "with nengo.Simulator(model) as sim:\n",
    "    sim.run(1)"
   ]
  },
  {
   "cell_type": "code",
   "execution_count": 47,
   "id": "9a99ff9c",
   "metadata": {},
   "outputs": [
    {
     "data": {
      "text/plain": [
       "<matplotlib.legend.Legend at 0x7f3bc80a7e20>"
      ]
     },
     "execution_count": 47,
     "metadata": {},
     "output_type": "execute_result"
    },
    {
     "data": {
      "image/png": "[encoded data removed]",
      "text/plain": [
       "<Figure size 432x288 with 1 Axes>"
      ]
     },
     "metadata": {
      "needs_background": "light"
     },
     "output_type": "display_data"
    }
   ],
   "source": [
    "plt.figure()\n",
    "plt.plot(sim.trange(), spa.similarity(sim.data[p], out.vocab, normalize=True))\n",
    "plt.xlabel(\"time\")\n",
    "plt.ylabel(\"sim\")\n",
    "plt.legend(out.vocab, loc=\"best\")"
   ]
  },
  {
   "cell_type": "markdown",
   "id": "f0412fb5",
   "metadata": {},
   "source": [
    "# Paths\n",
    "bind type t2 to t1 by a path of three labels: t1 * l1 * l2 * l3 : t2"
   ]
  },
  {
   "cell_type": "code",
   "execution_count": 8,
   "id": "766a4f26",
   "metadata": {},
   "outputs": [],
   "source": [
    "d = 64\n",
    "vocab = spa.Vocabulary(dimensions=d)\n",
    "vocab.populate(\"T1; T2; L1; L2; L3; L4; T3 = (T1 * L1 * L2 * L3 * L4 * T2)\")\n",
    "\n",
    "with spa.Network(\"Paths\") as model:\n",
    "    out = spa.State(vocab=d)\n",
    "    query = spa.Transcode(lambda t: \n",
    "                          \"T3 * ~T1 * ~L1 * ~L2 * ~L3 * ~L4\" if t < 0.25 \n",
    "                          else \"T2\", output_vocab=d)\n",
    "    \n",
    "    # spa.sym(\"T3 * ~T1 * ~L1 * ~L2 * ~L3 * ~L4\") >> out\n",
    "    query >> out\n",
    "    \n",
    "    p = nengo.Probe(out.output, synapse=0.01)"
   ]
  },
  {
   "cell_type": "code",
   "execution_count": 9,
   "id": "98092897",
   "metadata": {},
   "outputs": [
    {
     "data": {
      "application/vdom.v1+json": {
       "attributes": {},
       "tagName": "div"
      },
      "text/html": [
       "\n",
       "                <script>\n",
       "                    if (Jupyter.version.split(\".\")[0] < 5) {\n",
       "                        var pb = document.getElementById(\"8e727525-094d-49d9-b443-5c5bf85cc521\");\n",
       "                        var text = document.createTextNode(\n",
       "                            \"HMTL progress bar requires Jupyter Notebook >= \" +\n",
       "                            \"5.0 or Jupyter Lab. Alternatively, you can use \" +\n",
       "                            \"TerminalProgressBar().\");\n",
       "                        pb.parentNode.insertBefore(text, pb);\n",
       "                    }\n",
       "                </script>\n",
       "                <div id=\"8e727525-094d-49d9-b443-5c5bf85cc521\" style=\"\n",
       "                    width: 100%;\n",
       "                    border: 1px solid #cfcfcf;\n",
       "                    border-radius: 4px;\n",
       "                    text-align: center;\n",
       "                    position: relative;\">\n",
       "                  <div class=\"pb-text\" style=\"\n",
       "                      position: absolute;\n",
       "                      width: 100%;\">\n",
       "                    0%\n",
       "                  </div>\n",
       "                  <div class=\"pb-fill\" style=\"\n",
       "                      background-color: #bdd2e6;\n",
       "                      width: 0%;\">\n",
       "                    <style type=\"text/css\" scoped=\"scoped\">\n",
       "                        @keyframes pb-fill-anim {\n",
       "                            0% { background-position: 0 0; }\n",
       "                            100% { background-position: 100px 0; }\n",
       "                        }\n",
       "                    </style>\n",
       "                    &nbsp;\n",
       "                  </div>\n",
       "                </div>"
      ],
      "text/plain": [
       "HtmlProgressBar cannot be displayed. Please use the TerminalProgressBar. It can be enabled with `nengo.rc['progress']['progress_bar'] = 'nengo.utils.progress.TerminalProgressBar'`."
      ]
     },
     "metadata": {},
     "output_type": "display_data"
    },
    {
     "data": {
      "application/vdom.v1+json": {
       "attributes": {
        "id": "438fb5c0-a94a-4dc0-9e93-af3a40c8b794",
        "style": {
         "border": "1px solid #cfcfcf",
         "borderRadius": "4px",
         "boxSizing": "border-box",
         "position": "relative",
         "textAlign": "center",
         "width": "100%"
        }
       },
       "children": [
        {
         "attributes": {
          "class": "pb-text",
          "style": {
           "position": "absolute",
           "width": "100%"
          }
         },
         "children": [
          "Build finished in 0:00:06."
         ],
         "tagName": "div"
        },
        {
         "attributes": {
          "class": "pb-fill",
          "style": {
           "animation": "none",
           "backgroundColor": "#bdd2e6",
           "backgroundImage": "none",
           "backgroundSize": "100px 100%",
           "width": "100%"
          }
         },
         "children": [
          {
           "attributes": {
            "scoped": "scoped",
            "type": "text/css"
           },
           "children": [
            "\n                        @keyframes pb-fill-anim {\n                            0% { background-position: 0 0; }\n                            100% { background-position: 100px 0; }\n                        }}"
           ],
           "tagName": "style"
          },
          " "
         ],
         "tagName": "div"
        }
       ],
       "tagName": "div"
      },
      "text/html": [
       "<script>\n",
       "              (function () {\n",
       "                  var root = document.getElementById('8e727525-094d-49d9-b443-5c5bf85cc521');\n",
       "                  var text = root.getElementsByClassName('pb-text')[0];\n",
       "                  var fill = root.getElementsByClassName('pb-fill')[0];\n",
       "\n",
       "                  text.innerHTML = 'Build finished in 0:00:06.';\n",
       "                  \n",
       "            fill.style.width = '100%';\n",
       "            fill.style.animation = 'pb-fill-anim 2s linear infinite';\n",
       "            fill.style.backgroundSize = '100px 100%';\n",
       "            fill.style.backgroundImage = 'repeating-linear-gradient(' +\n",
       "                '90deg, #bdd2e6, #edf2f8 40%, #bdd2e6 80%, #bdd2e6)';\n",
       "        \n",
       "                  \n",
       "                fill.style.animation = 'none';\n",
       "                fill.style.backgroundImage = 'none';\n",
       "            \n",
       "              })();\n",
       "        </script>"
      ]
     },
     "metadata": {},
     "output_type": "display_data"
    },
    {
     "data": {
      "application/vdom.v1+json": {
       "attributes": {},
       "tagName": "div"
      },
      "text/html": [
       "\n",
       "                <script>\n",
       "                    if (Jupyter.version.split(\".\")[0] < 5) {\n",
       "                        var pb = document.getElementById(\"68c4bd79-2621-4ec7-9f14-15482bd0b834\");\n",
       "                        var text = document.createTextNode(\n",
       "                            \"HMTL progress bar requires Jupyter Notebook >= \" +\n",
       "                            \"5.0 or Jupyter Lab. Alternatively, you can use \" +\n",
       "                            \"TerminalProgressBar().\");\n",
       "                        pb.parentNode.insertBefore(text, pb);\n",
       "                    }\n",
       "                </script>\n",
       "                <div id=\"68c4bd79-2621-4ec7-9f14-15482bd0b834\" style=\"\n",
       "                    width: 100%;\n",
       "                    border: 1px solid #cfcfcf;\n",
       "                    border-radius: 4px;\n",
       "                    text-align: center;\n",
       "                    position: relative;\">\n",
       "                  <div class=\"pb-text\" style=\"\n",
       "                      position: absolute;\n",
       "                      width: 100%;\">\n",
       "                    0%\n",
       "                  </div>\n",
       "                  <div class=\"pb-fill\" style=\"\n",
       "                      background-color: #bdd2e6;\n",
       "                      width: 0%;\">\n",
       "                    <style type=\"text/css\" scoped=\"scoped\">\n",
       "                        @keyframes pb-fill-anim {\n",
       "                            0% { background-position: 0 0; }\n",
       "                            100% { background-position: 100px 0; }\n",
       "                        }\n",
       "                    </style>\n",
       "                    &nbsp;\n",
       "                  </div>\n",
       "                </div>"
      ],
      "text/plain": [
       "HtmlProgressBar cannot be displayed. Please use the TerminalProgressBar. It can be enabled with `nengo.rc['progress']['progress_bar'] = 'nengo.utils.progress.TerminalProgressBar'`."
      ]
     },
     "metadata": {},
     "output_type": "display_data"
    },
    {
     "data": {
      "application/vdom.v1+json": {
       "attributes": {
        "id": "494f7a1b-8bc1-49fc-95a5-b46527b1ad71",
        "style": {
         "border": "1px solid #cfcfcf",
         "borderRadius": "4px",
         "boxSizing": "border-box",
         "position": "relative",
         "textAlign": "center",
         "width": "100%"
        }
       },
       "children": [
        {
         "attributes": {
          "class": "pb-text",
          "style": {
           "position": "absolute",
           "width": "100%"
          }
         },
         "children": [
          "Simulation finished in 0:00:01."
         ],
         "tagName": "div"
        },
        {
         "attributes": {
          "class": "pb-fill",
          "style": {
           "animation": "none",
           "backgroundColor": "#bdd2e6",
           "backgroundImage": "none",
           "transition": "width 0.1s linear",
           "width": "100%"
          }
         },
         "children": [
          {
           "attributes": {
            "scoped": "scoped",
            "type": "text/css"
           },
           "children": [
            "\n                        @keyframes pb-fill-anim {\n                            0% { background-position: 0 0; }\n                            100% { background-position: 100px 0; }\n                        }}"
           ],
           "tagName": "style"
          },
          " "
         ],
         "tagName": "div"
        }
       ],
       "tagName": "div"
      },
      "text/html": [
       "<script>\n",
       "              (function () {\n",
       "                  var root = document.getElementById('68c4bd79-2621-4ec7-9f14-15482bd0b834');\n",
       "                  var text = root.getElementsByClassName('pb-text')[0];\n",
       "                  var fill = root.getElementsByClassName('pb-fill')[0];\n",
       "\n",
       "                  text.innerHTML = 'Simulation finished in 0:00:01.';\n",
       "                  \n",
       "            if (100.0 > 0.) {\n",
       "                fill.style.transition = 'width 0.1s linear';\n",
       "            } else {\n",
       "                fill.style.transition = 'none';\n",
       "            }\n",
       "\n",
       "            fill.style.width = '100.0%';\n",
       "            fill.style.animation = 'none';\n",
       "            fill.style.backgroundImage = 'none'\n",
       "        \n",
       "                  \n",
       "                fill.style.animation = 'none';\n",
       "                fill.style.backgroundImage = 'none';\n",
       "            \n",
       "              })();\n",
       "        </script>"
      ]
     },
     "metadata": {},
     "output_type": "display_data"
    }
   ],
   "source": [
    "with nengo.Simulator(model) as sim:\n",
    "    sim.run(0.5)"
   ]
  },
  {
   "cell_type": "code",
   "execution_count": 10,
   "id": "cd1e17b1",
   "metadata": {},
   "outputs": [
    {
     "data": {
      "text/plain": [
       "<matplotlib.legend.Legend at 0x7fbcd17e8d60>"
      ]
     },
     "execution_count": 10,
     "metadata": {},
     "output_type": "execute_result"
    },
    {
     "data": {
      "image/png": "[encoded data removed]",
      "text/plain": [
       "<Figure size 432x288 with 1 Axes>"
      ]
     },
     "metadata": {
      "needs_background": "light"
     },
     "output_type": "display_data"
    }
   ],
   "source": [
    "plt.figure()\n",
    "plt.plot(sim.trange(), spa.similarity(sim.data[p], out.vocab))\n",
    "plt.xlabel(\"time\")\n",
    "plt.ylabel(\"sim\")\n",
    "plt.legend(out.vocab, loc=\"best\")"
   ]
  },
  {
   "cell_type": "markdown",
   "id": "9c25cd90",
   "metadata": {},
   "source": [
    "## S * S' = 1"
   ]
  },
  {
   "cell_type": "code",
   "execution_count": 72,
   "id": "eef9f77d",
   "metadata": {},
   "outputs": [],
   "source": [
    "d = 32\n",
    "vocab = spa.Vocabulary(dimensions=d)\n",
    "vocab.populate(\"S\")\n",
    "\n",
    "s_vec = np.round(vocab[\"S\"].v, 10)\n",
    "inverse_vec = np.round(vocab.parse(\"~S\").v, 10)\n",
    "bind_vec = np.round(vocab.parse(\"S * ~S\").v, 10)"
   ]
  },
  {
   "cell_type": "code",
   "execution_count": 75,
   "id": "66e0db5e",
   "metadata": {},
   "outputs": [
    {
     "name": "stdout",
     "output_type": "stream",
     "text": [
      "S:\n",
      " [ 0.03863399 -0.25934266  0.16899501 -0.0723031  -0.11588228  0.03697957\n",
      " -0.19478691  0.20101748  0.2187074  -0.14665103  0.00836047  0.02063776\n",
      "  0.41098485  0.17467461 -0.22426568 -0.07927497 -0.22331247 -0.09189492\n",
      " -0.12800697 -0.26441462  0.04552998  0.18912929 -0.02518073  0.2084058\n",
      " -0.07980221 -0.08041494 -0.05554016  0.29819032  0.0791536   0.03261032\n",
      " -0.14339871 -0.34529403]\n",
      "inverse:\n",
      " [ 0.03863399 -0.34529403 -0.14339871  0.03261032  0.0791536   0.29819032\n",
      " -0.05554016 -0.08041494 -0.07980221  0.2084058  -0.02518073  0.18912929\n",
      "  0.04552998 -0.26441462 -0.12800697 -0.09189492 -0.22331247 -0.07927497\n",
      " -0.22426568  0.17467461  0.41098485  0.02063776  0.00836047 -0.14665103\n",
      "  0.2187074   0.20101748 -0.19478691  0.03697957 -0.11588228 -0.0723031\n",
      "  0.16899501 -0.25934266]\n",
      "bind:\n",
      " [ 1.          0.06715081 -0.01411307 -0.13693478 -0.23050322  0.25170035\n",
      " -0.17120821 -0.14446384 -0.13575514 -0.23785251  0.02486284 -0.04690112\n",
      " -0.03543558  0.01174734 -0.05685212  0.27466801  0.31799023  0.27466801\n",
      " -0.05685212  0.01174734 -0.03543558 -0.04690112  0.02486284 -0.23785251\n",
      " -0.13575514 -0.14446384 -0.17120821  0.25170035 -0.23050322 -0.13693478\n",
      " -0.01411307  0.06715081]\n"
     ]
    }
   ],
   "source": [
    "print(\"S:\\n\", s_vec)\n",
    "print(\"inverse:\\n\", inverse_vec)\n",
    "print(\"bind:\\n\", bind_vec)"
   ]
  },
  {
   "cell_type": "code",
   "execution_count": 90,
   "id": "9c46a906",
   "metadata": {},
   "outputs": [
    {
     "name": "stdout",
     "output_type": "stream",
     "text": [
      "0.09868243105554851\n",
      "0.09868243105554851\n",
      "[0.09868243]\n"
     ]
    }
   ],
   "source": [
    "# numpy:\n",
    "dot_prod = np.dot(s_vec, inverse_vec)\n",
    "# since Python 3.5:\n",
    "dot_new = s_vec @ inverse_vec\n",
    "# spa:\n",
    "dot_spa_norm = spa.similarity(s_vec, inverse_vec, normalize=True)\n",
    "\n",
    "print(dot_prod)\n",
    "print(dot_new)\n",
    "print(dot_spa_norm)"
   ]
  },
  {
   "cell_type": "markdown",
   "id": "634f57a2",
   "metadata": {},
   "source": [
    "## Subtypes"
   ]
  },
  {
   "cell_type": "code",
   "execution_count": 48,
   "id": "7301d148",
   "metadata": {},
   "outputs": [
    {
     "name": "stdout",
     "output_type": "stream",
     "text": [
      "Identity: [1.]\n",
      "Sim: [0.65160681]\n",
      "Sim max: [0.8314121]\n"
     ]
    }
   ],
   "source": [
    "d = 64\n",
    "vocab = spa.Vocabulary(dimensions=d)\n",
    "vocab.populate(\"L1; L2; T1; T2\")\n",
    "\n",
    "supertype = np.round(vocab.parse(\"L1 * T1\").v, 10)\n",
    "subtype = np.round(vocab.parse(\"L1 * T1 + L2 * T2\").v, 10)\n",
    "\n",
    "sim_base = spa.similarity(subtype,subtype,normalize=True)\n",
    "sim_norm = spa.similarity(supertype,subtype,normalize=True)\n",
    "\n",
    "print(\"Identity:\", sim_base)\n",
    "print(\"Sim:\", sim_norm)\n",
    "\n",
    "sim_max = spa.similarity(np.maximum(supertype,subtype),subtype,normalize=True)\n",
    "print(\"Sim max:\", sim_max)"
   ]
  }
 ],
 "metadata": {
  "kernelspec": {
   "display_name": "Python 3 (ipykernel)",
   "language": "python",
   "name": "python3"
  },
  "language_info": {
   "codemirror_mode": {
    "name": "ipython",
    "version": 3
   },
   "file_extension": ".py",
   "mimetype": "text/x-python",
   "name": "python",
   "nbconvert_exporter": "python",
   "pygments_lexer": "ipython3",
   "version": "3.10.6"
  }
 },
 "nbformat": 4,
 "nbformat_minor": 5
}
